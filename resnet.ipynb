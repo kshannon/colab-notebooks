{
  "nbformat": 4,
  "nbformat_minor": 0,
  "metadata": {
    "colab": {
      "name": "resnet.ipynb",
      "provenance": [],
      "authorship_tag": "ABX9TyMafe6QnB3v5xBY4l4TeGGh",
      "include_colab_link": true
    },
    "kernelspec": {
      "name": "python3",
      "display_name": "Python 3"
    },
    "language_info": {
      "name": "python"
    }
  },
  "cells": [
    {
      "cell_type": "markdown",
      "metadata": {
        "id": "view-in-github",
        "colab_type": "text"
      },
      "source": [
        "<a href=\"https://colab.research.google.com/github/kshannon/colab-notebooks/blob/main/resnet.ipynb\" target=\"_parent\"><img src=\"https://colab.research.google.com/assets/colab-badge.svg\" alt=\"Open In Colab\"/></a>"
      ]
    },
    {
      "cell_type": "markdown",
      "metadata": {
        "id": "7VFrr6uN9kNT"
      },
      "source": [
        "## Deep dive into ResNet model, mechanics, and paper using pytroch"
      ]
    },
    {
      "cell_type": "code",
      "metadata": {
        "id": "3VN7XiBJ8FI8"
      },
      "source": [
        "# raise todo"
      ],
      "execution_count": null,
      "outputs": []
    }
  ]
}